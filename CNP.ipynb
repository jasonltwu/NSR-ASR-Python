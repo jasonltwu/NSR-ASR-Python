{
 "cells": [
  {
   "cell_type": "markdown",
   "metadata": {},
   "source": [
    "Please go through this notebook to generate NSR Location Layer \n",
    "\n",
    "Steps:\n",
    "\n",
    "1. Download iG1000 from LandsD HKMS 2.0 from https://www.hkmapservice.gov.hk/OneStopSystem/map-search\n",
    "2. Download GeoCom csv from LandsD HKMS 2.0\n"
   ]
  },
  {
   "cell_type": "code",
   "execution_count": 8,
   "metadata": {},
   "outputs": [],
   "source": [
    "import requests\n",
    "import arcpy \n",
    "import pandas as pd"
   ]
  },
  {
   "cell_type": "code",
   "execution_count": 49,
   "metadata": {},
   "outputs": [
    {
     "name": "stdout",
     "output_type": "stream",
     "text": [
      "                                             ENGLISHNAME CLASS TYPE   EASTING  \\\n",
      "169                            Yau Ma Tei Public Library   CUF  LIB  835550.0   \n",
      "171    SUNSHINE HOUSE INTERNATIONAL PRE-SCHOOL (TUNG ...   SCH  KDG  811775.0   \n",
      "175       VICTORIA (HOMANTIN) INTERNATIONAL KINDERGARTEN   SCH  KDG  836515.0   \n",
      "176             MULBERRY TREE INTERNATIONAL KINDERGARTEN   SCH  KDG  838379.0   \n",
      "177             YORK INTERNATIONAL PRE-SCHOOL (TUEN MUN)   SCH  KDG  818436.0   \n",
      "...                                                  ...   ...  ...       ...   \n",
      "37891  Chinese Christian Evangelists' Mission Central...   REM  CHU  835779.0   \n",
      "37892                  Tsung Tsin Mission Fu Shin Church   REM  CHU  836245.0   \n",
      "37893                 Tsung Tsin Mission Mong Kok Church   REM  CHU  835119.0   \n",
      "37896                    Truth Baptist (Yung Kei) Church   REM  CHU  832343.0   \n",
      "37932                                             Church   REM  CHU  846126.0   \n",
      "\n",
      "       NORTHING  \n",
      "169    818932.0  \n",
      "171    816739.0  \n",
      "175    819424.0  \n",
      "176    826680.0  \n",
      "177    825940.0  \n",
      "...         ...  \n",
      "37891  819742.0  \n",
      "37892  835145.0  \n",
      "37893  820053.0  \n",
      "37896  838132.0  \n",
      "37932  826451.0  \n",
      "\n",
      "[5696 rows x 5 columns]\n"
     ]
    }
   ],
   "source": [
    "GeoCom = r\"C:\\Users\\Jason\\Desktop\\ANewR\\EPD\\CNP\\GeoCom4.0_202112.csv\"\n",
    "\n",
    "GeoCom_df = pd.read_csv(GeoCom,index_col=False,usecols=['ENGLISHNAME','CLASS','TYPE','EASTING','NORTHING'])\n",
    "\n",
    "GeoCom_df = GeoCom_df.query('TYPE in [\"LIB\",\"PAG\",\"PFM\",\"PFM\",\"CCC\",\"KDG\",\"MIS\",\"PRS\",\"SCM\",\"SEC\",\"SES\",\"TET\",\"VTI\",\"CHU\",\"MON\",\"MOS\",\"RPS\",\"SMY\"]')\n",
    "\n",
    "print(GeoCom_df)\n",
    "\n"
   ]
  },
  {
   "cell_type": "code",
   "execution_count": null,
   "metadata": {},
   "outputs": [],
   "source": [
    "def addNSR(URL);\n",
    "\n",
    "    response = requests.get(URL)\n",
    "    Temp_list = []\n",
    "    \n",
    "    #Check status\n",
    "    if response.status_code == 200:\n",
    "        json = response.json()\n",
    "        \n",
    "        for event in json:\n",
    "            temp = event[['Name of Block(s)']['en']].split('<br>')\n",
    "            temp = list(filter(None, temp))\n",
    "            for item in temp:\n",
    "                Temp_list.append(item)\n",
    "                \n",
    "    else:\n",
    "        print(\"Failed\",response)\n",
    "    \n",
    "    \n",
    "    \n",
    "    return"
   ]
  },
  {
   "cell_type": "code",
   "execution_count": 2,
   "metadata": {},
   "outputs": [],
   "source": [
    "##PRH\n",
    "response = requests.get(r\"https://www.housingauthority.gov.hk/datagovhk/prh-estates.json\")"
   ]
  },
  {
   "cell_type": "code",
   "execution_count": 44,
   "metadata": {},
   "outputs": [],
   "source": [
    "#HOS\n",
    "response = requests.get(r\"https://www.housingauthority.gov.hk/datagovhk/hos-courts.json\")"
   ]
  },
  {
   "cell_type": "code",
   "execution_count": 3,
   "metadata": {},
   "outputs": [
    {
     "name": "stdout",
     "output_type": "stream",
     "text": [
      "<Response [200]>\n"
     ]
    }
   ],
   "source": [
    "if response.status_code == 200:\n",
    "    print(response)\n",
    "    json = response.json()\n",
    "else:\n",
    "    print(\"Failed\",response)"
   ]
  },
  {
   "cell_type": "code",
   "execution_count": 46,
   "metadata": {},
   "outputs": [],
   "source": [
    "HOS=[]\n",
    "\n",
    "for event in json:\n",
    "    \n",
    "    temp = event['Name of Block(s)']['en'].split('<br>')\n",
    "    temp = list(filter(None, temp))\n",
    "    for item in temp:\n",
    "        HOS.append(item)"
   ]
  },
  {
   "cell_type": "code",
   "execution_count": 6,
   "metadata": {},
   "outputs": [],
   "source": [
    "PRH=[]\n",
    "\n",
    "for event in json:\n",
    "    \n",
    "    temp = event['Name of Block(s)']['en'].split('<br>')\n",
    "    temp = list(filter(None, temp))\n",
    "    for item in temp:\n",
    "        PRH.append(item)"
   ]
  },
  {
   "cell_type": "code",
   "execution_count": 7,
   "metadata": {},
   "outputs": [
    {
     "data": {
      "text/plain": [
       "1586"
      ]
     },
     "execution_count": 7,
     "metadata": {},
     "output_type": "execute_result"
    }
   ],
   "source": [
    "#Number of Public Housing Estate = 234\n",
    "#Number of Public Housing Estate blocks = 1586 \n",
    "len(PRH)"
   ]
  },
  {
   "cell_type": "code",
   "execution_count": 47,
   "metadata": {},
   "outputs": [
    {
     "data": {
      "text/plain": [
       "743"
      ]
     },
     "execution_count": 47,
     "metadata": {},
     "output_type": "execute_result"
    }
   ],
   "source": [
    "#Number of Home Ownership Scheme = 220\n",
    "len(HOS)"
   ]
  },
  {
   "cell_type": "code",
   "execution_count": 48,
   "metadata": {},
   "outputs": [],
   "source": [
    "##Tak Cheung House\n",
    "fc = r\"C:\\Users\\Jason\\Desktop\\ANewR\\EPD\\CNP\\CNP.gdb\\Building\"\n",
    "fields = ['ENGLISHBUILDINGNAME','NSR']\n",
    "\n",
    "with arcpy.da.UpdateCursor(fc, fields) as cursor:\n",
    "    \n",
    "    for row in cursor:\n",
    "        if row[0] in HOS    :\n",
    "            row[1] = \"Y\"\n",
    "            cursor.updateRow(row) "
   ]
  }
 ],
 "metadata": {
  "interpreter": {
   "hash": "6e47a6bf76a0afafcea5cff4e6ad2495da2b36615a3b5a3e0bf89b50a2f11d49"
  },
  "kernelspec": {
   "display_name": "Python 3.7.11 64-bit ('arcgis37': conda)",
   "language": "python",
   "name": "python3"
  },
  "language_info": {
   "codemirror_mode": {
    "name": "ipython",
    "version": 3
   },
   "file_extension": ".py",
   "mimetype": "text/x-python",
   "name": "python",
   "nbconvert_exporter": "python",
   "pygments_lexer": "ipython3",
   "version": "3.7.10"
  },
  "orig_nbformat": 4
 },
 "nbformat": 4,
 "nbformat_minor": 2
}
