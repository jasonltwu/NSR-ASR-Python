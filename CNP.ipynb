{
 "cells": [
  {
   "cell_type": "markdown",
   "metadata": {},
   "source": [
    "## NSR ASR NOTEBOOK\n",
    "This notebook walkthrough the steps required to determine NSRs location in Hong Kong. \n",
    "\n",
    "### Prerequisites: \n",
    "<input type=\"checkbox\" disabled checked> Python 3.X\n",
    "<br>\n",
    "<input type=\"checkbox\" disabled checked> Arcpy\n",
    "<br>\n",
    "<input type=\"checkbox\" disabled checked>requests\n",
    "<br>\n",
    "<input type=\"checkbox\" disabled checked>Pandas\n",
    "\n",
    "### Methodology:\n",
    "\n",
    "#### Steps:\n",
    "1. Download iG1000 from LandsD HKMS 2.0 from https://www.hkmapservice.gov.hk/OneStopSystem/map-search\n",
    "2. Download GeoCom csv from LandsD HKMS 2.0\n",
    "3. Import the required library (Run Code 1)\n",
    "\n",
    "    ```python\n",
    "    import requests\n",
    "    import arcpy \n",
    "    import pandas as pd\n",
    "\n",
    "    ```\n",
    "4. Extract NSR from GeoCom\n",
    "\n",
    "| NSR Type | GeoCom Class | GeoCom Type | Type Description |\n",
    "|:---:|:---:|:---:|---|\n",
    "|Court of law|GOV|JUD|Magistracy / District Court|\n",
    "|Domestic premises|--|--|--|\n",
    "|Educational institution|SCH|CCC<br>KDG<br>MIS<br>PRS<br>SCM<br>SEC<br>SES<br>TEI<br>VTI|Child Care Centre<br>Kindergarten<br>Riding School / Road Safety Centre<br>Primary School<br>Educational Branch / Sub-campus<br>Special Education School<br>Secondary School<br>Post-Secondary<br>Vocational Training Institute / Career Skill Development|\n",
    "|Hospital|HNC|HOS|Hospital|\n",
    "|Hostel|AMD|GHS<br>HCV<br>YHL|Guest House<br>Holiday Camp / Village<br>Youth Hostel|\n",
    "|Hotel|AMD|HTL|Hotel|\n",
    "|Library|CUF|LIB|Library|\n",
    "|Medical clinic|HNC<br><br><br>GOV|CLI<br>ELD<br>REH<br>CSD|Clinic / Health Centre / Dispensary<br>Home for the Elderly<br>Rehabilitation Centre<br>Drug Abuse Treatment and Rehabilitation Services|\n",
    "|Performing arts centre|CUF|PFM|Performing Arts Venue|\n",
    "|Place of public worship|REM|CHU<br>MON<br>MOS<br>RPS<br>SMY<br>SYN<br>TMP|Church<br>Monastery / Nunnery<br>Mosque<br>Other Religious Meeting Place<br>Seminary<br>Synagogue<br>Temple|\n",
    "|Temporary housing accommodation|--|--|--|\n",
    "\n",
    "\n"
   ]
  },
  {
   "cell_type": "code",
   "execution_count": 5,
   "metadata": {},
   "outputs": [],
   "source": [
    "## Code 1\n",
    "import requests\n",
    "import arcpy \n",
    "import pandas as pd"
   ]
  },
  {
   "cell_type": "code",
   "execution_count": 17,
   "metadata": {},
   "outputs": [],
   "source": [
    "GeoCom = r\"C:\\Users\\Jason\\Desktop\\ANewR\\EPD\\CNP\\GeoCom4.0_202112.csv\"\n",
    "\n",
    "GeoCom_df = pd.read_csv(GeoCom,index_col=False,usecols=['ENGLISHNAME','CHINESENAME','CLASS','TYPE','EASTING','NORTHING','E_ADDRESS','C_ADDRESS'])\n",
    "\n",
    "GeoCom_df = GeoCom_df.query('TYPE in [\"JUD\",\"CCC\",\"KDG\",\"MIS\",\"PRS\",\"SCM\",\"SEC\",\"SES\",\"TEI\",\"VTI\",\"HOS\",\"GHS\",\"HCV\",\"YHL\",\"HTL\",\"LIB\",\"CLI\",\"ELD\",\"REH\",\"CSD\",\"PFM\",\"CHU\",\"MON\",\"MOS\",\"RPS\",\"SMY\",\"SYN\",\"TMP\"]')\n",
    "\n",
    "GeoCom_df['Sources']= 'GeoCom'\n",
    "GeoCom_csv = GeoCom_df.to_csv(\"GeoCom_NSR.csv\",encoding='utf-8-sig')\n",
    "\n",
    "\n"
   ]
  },
  {
   "cell_type": "code",
   "execution_count": null,
   "metadata": {},
   "outputs": [],
   "source": [
    "def addNSR(URL);\n",
    "\n",
    "    response = requests.get(URL)\n",
    "    Temp_list = []\n",
    "    \n",
    "    #Check status\n",
    "    if response.status_code == 200:\n",
    "        json = response.json()\n",
    "        \n",
    "        for event in json:\n",
    "            temp = event[['Name of Block(s)']['en']].split('<br>')\n",
    "            temp = list(filter(None, temp))\n",
    "            for item in temp:\n",
    "                Temp_list.append(item)\n",
    "                \n",
    "    else:\n",
    "        print(\"Failed\",response)\n",
    "    \n",
    "    \n",
    "    \n",
    "    return"
   ]
  },
  {
   "cell_type": "code",
   "execution_count": 2,
   "metadata": {},
   "outputs": [],
   "source": [
    "##PRH\n",
    "response = requests.get(r\"https://www.housingauthority.gov.hk/datagovhk/prh-estates.json\")"
   ]
  },
  {
   "cell_type": "code",
   "execution_count": 44,
   "metadata": {},
   "outputs": [],
   "source": [
    "#HOS\n",
    "response = requests.get(r\"https://www.housingauthority.gov.hk/datagovhk/hos-courts.json\")"
   ]
  },
  {
   "cell_type": "code",
   "execution_count": 3,
   "metadata": {},
   "outputs": [
    {
     "name": "stdout",
     "output_type": "stream",
     "text": [
      "<Response [200]>\n"
     ]
    }
   ],
   "source": [
    "if response.status_code == 200:\n",
    "    print(response)\n",
    "    json = response.json()\n",
    "else:\n",
    "    print(\"Failed\",response)"
   ]
  },
  {
   "cell_type": "code",
   "execution_count": 46,
   "metadata": {},
   "outputs": [],
   "source": [
    "HOS=[]\n",
    "\n",
    "for event in json:\n",
    "    \n",
    "    temp = event['Name of Block(s)']['en'].split('<br>')\n",
    "    temp = list(filter(None, temp))\n",
    "    for item in temp:\n",
    "        HOS.append(item)"
   ]
  },
  {
   "cell_type": "code",
   "execution_count": 6,
   "metadata": {},
   "outputs": [],
   "source": [
    "PRH=[]\n",
    "\n",
    "for event in json:\n",
    "    \n",
    "    temp = event['Name of Block(s)']['en'].split('<br>')\n",
    "    temp = list(filter(None, temp))\n",
    "    for item in temp:\n",
    "        PRH.append(item)"
   ]
  },
  {
   "cell_type": "code",
   "execution_count": 7,
   "metadata": {},
   "outputs": [
    {
     "data": {
      "text/plain": [
       "1586"
      ]
     },
     "execution_count": 7,
     "metadata": {},
     "output_type": "execute_result"
    }
   ],
   "source": [
    "#Number of Public Housing Estate = 234\n",
    "#Number of Public Housing Estate blocks = 1586 \n",
    "len(PRH)"
   ]
  },
  {
   "cell_type": "code",
   "execution_count": 47,
   "metadata": {},
   "outputs": [
    {
     "data": {
      "text/plain": [
       "743"
      ]
     },
     "execution_count": 47,
     "metadata": {},
     "output_type": "execute_result"
    }
   ],
   "source": [
    "#Number of Home Ownership Scheme = 220\n",
    "len(HOS)"
   ]
  },
  {
   "cell_type": "code",
   "execution_count": 48,
   "metadata": {},
   "outputs": [],
   "source": [
    "##Tak Cheung House\n",
    "fc = r\"C:\\Users\\Jason\\Desktop\\ANewR\\EPD\\CNP\\CNP.gdb\\Building\"\n",
    "fields = ['ENGLISHBUILDINGNAME','NSR']\n",
    "\n",
    "with arcpy.da.UpdateCursor(fc, fields) as cursor:\n",
    "    \n",
    "    for row in cursor:\n",
    "        if row[0] in HOS    :\n",
    "            row[1] = \"Y\"\n",
    "            cursor.updateRow(row) "
   ]
  }
 ],
 "metadata": {
  "interpreter": {
   "hash": "6e47a6bf76a0afafcea5cff4e6ad2495da2b36615a3b5a3e0bf89b50a2f11d49"
  },
  "kernelspec": {
   "display_name": "Python 3.7.11 64-bit ('arcgis37': conda)",
   "language": "python",
   "name": "python3"
  },
  "language_info": {
   "codemirror_mode": {
    "name": "ipython",
    "version": 3
   },
   "file_extension": ".py",
   "mimetype": "text/x-python",
   "name": "python",
   "nbconvert_exporter": "python",
   "pygments_lexer": "ipython3",
   "version": "3.7.10"
  },
  "orig_nbformat": 4
 },
 "nbformat": 4,
 "nbformat_minor": 2
}
