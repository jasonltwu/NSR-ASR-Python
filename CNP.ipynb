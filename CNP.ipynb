{
 "cells": [
  {
   "cell_type": "markdown",
   "metadata": {},
   "source": [
    "## NSR ASR NOTEBOOK\n",
    "This notebook walkthrough the steps required to determine NSRs location in Hong Kong. \n",
    "\n",
    "### Prerequisites: \n",
    "<input type=\"checkbox\" disabled checked> Python 3.X\n",
    "<br>\n",
    "<input type=\"checkbox\" disabled checked> Arcpy\n",
    "<br>\n",
    "<input type=\"checkbox\" disabled checked>requests\n",
    "<br>\n",
    "<input type=\"checkbox\" disabled checked>Pandas\n",
    "\n",
    "### Methodology:\n",
    "\n",
    "#### Steps:\n",
    "1. Download iG1000 from LandsD HKMS 2.0 from https://www.hkmapservice.gov.hk/OneStopSystem/map-search\n",
    "2. Download GeoCom csv from LandsD HKMS 2.0\n",
    "3. Import the required library (Run Code 1)\n",
    "\n",
    "    ```python\n",
    "    import requests\n",
    "    import arcpy \n",
    "    import pandas as pd\n",
    "\n",
    "    ```\n",
    "4. Extract NSR from GeoCom\n",
    "\n",
    "| NSR Type | GeoCom Class | GeoCom Type | Type Description |\n",
    "|:---:|:---:|:---:|---|\n",
    "|Court of law|GOV|JUD|Magistracy / District Court|\n",
    "|Domestic premises|--|--|--|\n",
    "|Educational institution|SCH|CCC<br>KDG<br>MIS<br>PRS<br>SCM<br>SEC<br>SES<br>TEI<br>VTI|Child Care Centre<br>Kindergarten<br>Riding School / Road Safety Centre<br>Primary School<br>Educational Branch / Sub-campus<br>Special Education School<br>Secondary School<br>Post-Secondary<br>Vocational Training Institute / Career Skill Development|\n",
    "|Hospital|HNC|HOS|Hospital|\n",
    "|Hostel|AMD|GHS<br>HCV<br>YHL|Guest House<br>Holiday Camp / Village<br>Youth Hostel|\n",
    "|Hotel|AMD|HTL|Hotel|\n",
    "|Library|CUF|LIB|Library|\n",
    "|Medical clinic|HNC<br><br><br>GOV|CLI<br>ELD<br>REH<br>CSD|Clinic / Health Centre / Dispensary<br>Home for the Elderly<br>Rehabilitation Centre<br>Drug Abuse Treatment and Rehabilitation Services|\n",
    "|Performing arts centre|CUF|PFM|Performing Arts Venue|\n",
    "|Place of public worship|REM|CHU<br>MON<br>MOS<br>RPS<br>SMY<br>SYN<br>TMP|Church<br>Monastery / Nunnery<br>Mosque<br>Other Religious Meeting Place<br>Seminary<br>Synagogue<br>Temple|\n",
    "|Temporary housing accommodation|--|--|--|\n",
    "\n",
    "\n"
   ]
  },
  {
   "cell_type": "code",
   "execution_count": 1,
   "metadata": {},
   "outputs": [],
   "source": [
    "## Code 1\n",
    "import requests\n",
    "import arcpy \n",
    "import pandas as pd\n",
    "import os"
   ]
  },
  {
   "cell_type": "code",
   "execution_count": 16,
   "metadata": {},
   "outputs": [
    {
     "ename": "FileNotFoundError",
     "evalue": "[Errno 2] No such file or directory: './GeoCom_NSR.csv'",
     "output_type": "error",
     "traceback": [
      "\u001b[1;31m---------------------------------------------------------------------------\u001b[0m",
      "\u001b[1;31mFileNotFoundError\u001b[0m                         Traceback (most recent call last)",
      "\u001b[1;32mc:\\program files\\arcgis\\pro\\Resources\\ArcToolbox\\scripts\\XYTableToPoint.py\u001b[0m in \u001b[0;36m<module>\u001b[1;34m\u001b[0m\n\u001b[0;32m    241\u001b[0m         \u001b[0marcpy\u001b[0m\u001b[1;33m.\u001b[0m\u001b[0mAddIDMessage\u001b[0m\u001b[1;33m(\u001b[0m\u001b[1;34m\"WARNING\"\u001b[0m\u001b[1;33m,\u001b[0m \u001b[1;36m100160\u001b[0m\u001b[1;33m)\u001b[0m\u001b[1;33m\u001b[0m\u001b[1;33m\u001b[0m\u001b[0m\n\u001b[0;32m    242\u001b[0m         arcpy.AddIDMessage(\"WARNING\", 192, \"{}: {}\".format(str(arcpy.GetIDMessage(84526)).lower(), \n\u001b[1;32m--> 243\u001b[1;33m                                            \", \".join(empty_out_bounds)))\n\u001b[0m\u001b[0;32m    244\u001b[0m     \u001b[1;32mif\u001b[0m \u001b[0mruntime\u001b[0m\u001b[1;33m:\u001b[0m\u001b[1;33m\u001b[0m\u001b[1;33m\u001b[0m\u001b[0m\n\u001b[0;32m    245\u001b[0m         \u001b[1;32mfor\u001b[0m \u001b[0merror\u001b[0m \u001b[1;32min\u001b[0m \u001b[0mset\u001b[0m\u001b[1;33m(\u001b[0m\u001b[0mruntime\u001b[0m\u001b[1;33m)\u001b[0m\u001b[1;33m:\u001b[0m\u001b[1;33m\u001b[0m\u001b[1;33m\u001b[0m\u001b[0m\n",
      "\u001b[1;32mc:\\program files\\arcgis\\pro\\Resources\\ArcToolbox\\scripts\\XYTableToPoint.py\u001b[0m in \u001b[0;36mxy_table_to_points\u001b[1;34m(in_table, output_fc, x_field, y_field, z_field, coordinate_system)\u001b[0m\n\u001b[0;32m     95\u001b[0m         \u001b[1;32mif\u001b[0m \u001b[0mdsc_in\u001b[0m\u001b[1;33m.\u001b[0m\u001b[0mdataType\u001b[0m\u001b[1;33m.\u001b[0m\u001b[0mlower\u001b[0m\u001b[1;33m(\u001b[0m\u001b[1;33m)\u001b[0m \u001b[1;33m==\u001b[0m \u001b[1;34m\"textfile\"\u001b[0m\u001b[1;33m:\u001b[0m\u001b[1;33m\u001b[0m\u001b[1;33m\u001b[0m\u001b[0m\n\u001b[0;32m     96\u001b[0m             \u001b[0mtxtfile\u001b[0m \u001b[1;33m=\u001b[0m \u001b[1;32mTrue\u001b[0m\u001b[1;33m\u001b[0m\u001b[1;33m\u001b[0m\u001b[0m\n\u001b[1;32m---> 97\u001b[1;33m         \u001b[1;31m# Error if data has a join, not supported with da cursors\u001b[0m\u001b[1;33m\u001b[0m\u001b[1;33m\u001b[0m\u001b[1;33m\u001b[0m\u001b[0m\n\u001b[0m\u001b[0;32m     98\u001b[0m         \u001b[0mjoined\u001b[0m \u001b[1;33m=\u001b[0m \u001b[1;32mTrue\u001b[0m \u001b[1;32mif\u001b[0m \u001b[0mdsc_in\u001b[0m\u001b[1;33m.\u001b[0m\u001b[0mOIDFieldName\u001b[0m\u001b[1;33m.\u001b[0m\u001b[0mlower\u001b[0m\u001b[1;33m(\u001b[0m\u001b[1;33m)\u001b[0m\u001b[1;33m.\u001b[0m\u001b[0msplit\u001b[0m\u001b[1;33m(\u001b[0m\u001b[1;34m\".\"\u001b[0m\u001b[1;33m)\u001b[0m\u001b[1;33m[\u001b[0m\u001b[1;36m0\u001b[0m\u001b[1;33m]\u001b[0m \u001b[1;33m==\u001b[0m \u001b[0mdsc_in\u001b[0m\u001b[1;33m.\u001b[0m\u001b[0mbaseName\u001b[0m\u001b[1;33m.\u001b[0m\u001b[0mlower\u001b[0m\u001b[1;33m(\u001b[0m\u001b[1;33m)\u001b[0m \u001b[1;32melse\u001b[0m \u001b[1;32mFalse\u001b[0m\u001b[1;33m\u001b[0m\u001b[1;33m\u001b[0m\u001b[0m\n\u001b[0;32m     99\u001b[0m         \u001b[1;32mdel\u001b[0m \u001b[0mdsc_in\u001b[0m\u001b[1;33m\u001b[0m\u001b[1;33m\u001b[0m\u001b[0m\n",
      "\u001b[1;31mFileNotFoundError\u001b[0m: [Errno 2] No such file or directory: './GeoCom_NSR.csv'"
     ]
    },
    {
     "ename": "ExecuteError",
     "evalue": "ERROR 000582: Error occurred during execution.\n",
     "output_type": "error",
     "traceback": [
      "\u001b[1;31m---------------------------------------------------------------------------\u001b[0m",
      "\u001b[1;31mExecuteError\u001b[0m                              Traceback (most recent call last)",
      "\u001b[1;32m<ipython-input-16-97262579cc26>\u001b[0m in \u001b[0;36m<module>\u001b[1;34m\u001b[0m\n\u001b[0;32m     12\u001b[0m \u001b[1;33m\u001b[0m\u001b[0m\n\u001b[0;32m     13\u001b[0m \u001b[1;33m\u001b[0m\u001b[0m\n\u001b[1;32m---> 14\u001b[1;33m \u001b[0marcpy\u001b[0m\u001b[1;33m.\u001b[0m\u001b[0mmanagement\u001b[0m\u001b[1;33m.\u001b[0m\u001b[0mXYTableToPoint\u001b[0m\u001b[1;33m(\u001b[0m\u001b[1;34m\"./GeoCom_NSR.csv\"\u001b[0m\u001b[1;33m,\u001b[0m\u001b[1;34m\"GeoCom_Point\"\u001b[0m\u001b[1;33m,\u001b[0m\u001b[1;34m\"EASTING\"\u001b[0m\u001b[1;33m,\u001b[0m\u001b[1;34m\"NORTHING\"\u001b[0m\u001b[1;33m,\u001b[0m\u001b[1;32mNone\u001b[0m\u001b[1;33m,\u001b[0m\u001b[0marcpy\u001b[0m\u001b[1;33m.\u001b[0m\u001b[0mSpatialReference\u001b[0m\u001b[1;33m(\u001b[0m\u001b[1;36m2326\u001b[0m\u001b[1;33m)\u001b[0m\u001b[1;33m)\u001b[0m\u001b[1;33m\u001b[0m\u001b[1;33m\u001b[0m\u001b[0m\n\u001b[0m",
      "\u001b[1;32mC:\\Program Files\\ArcGIS\\Pro\\Resources\\ArcPy\\arcpy\\management.py\u001b[0m in \u001b[0;36mXYTableToPoint\u001b[1;34m(in_table, out_feature_class, x_field, y_field, z_field, coordinate_system)\u001b[0m\n\u001b[0;32m   4642\u001b[0m         \u001b[1;32mreturn\u001b[0m \u001b[0mretval\u001b[0m\u001b[1;33m\u001b[0m\u001b[1;33m\u001b[0m\u001b[0m\n\u001b[0;32m   4643\u001b[0m     \u001b[1;32mexcept\u001b[0m \u001b[0mException\u001b[0m \u001b[1;32mas\u001b[0m \u001b[0me\u001b[0m\u001b[1;33m:\u001b[0m\u001b[1;33m\u001b[0m\u001b[1;33m\u001b[0m\u001b[0m\n\u001b[1;32m-> 4644\u001b[1;33m         \u001b[1;32mraise\u001b[0m \u001b[0me\u001b[0m\u001b[1;33m\u001b[0m\u001b[1;33m\u001b[0m\u001b[0m\n\u001b[0m\u001b[0;32m   4645\u001b[0m \u001b[1;33m\u001b[0m\u001b[0m\n\u001b[0;32m   4646\u001b[0m \u001b[1;33m@\u001b[0m\u001b[0mgptooldoc\u001b[0m\u001b[1;33m(\u001b[0m\u001b[1;34m'XYToLine_management'\u001b[0m\u001b[1;33m,\u001b[0m \u001b[1;32mNone\u001b[0m\u001b[1;33m)\u001b[0m\u001b[1;33m\u001b[0m\u001b[1;33m\u001b[0m\u001b[0m\n",
      "\u001b[1;32mC:\\Program Files\\ArcGIS\\Pro\\Resources\\ArcPy\\arcpy\\management.py\u001b[0m in \u001b[0;36mXYTableToPoint\u001b[1;34m(in_table, out_feature_class, x_field, y_field, z_field, coordinate_system)\u001b[0m\n\u001b[0;32m   4639\u001b[0m     \u001b[1;32mfrom\u001b[0m \u001b[0marcpy\u001b[0m\u001b[1;33m.\u001b[0m\u001b[0marcobjects\u001b[0m\u001b[1;33m.\u001b[0m\u001b[0marcobjectconversion\u001b[0m \u001b[1;32mimport\u001b[0m \u001b[0mconvertArcObjectToPythonObject\u001b[0m\u001b[1;33m\u001b[0m\u001b[1;33m\u001b[0m\u001b[0m\n\u001b[0;32m   4640\u001b[0m     \u001b[1;32mtry\u001b[0m\u001b[1;33m:\u001b[0m\u001b[1;33m\u001b[0m\u001b[1;33m\u001b[0m\u001b[0m\n\u001b[1;32m-> 4641\u001b[1;33m         \u001b[0mretval\u001b[0m \u001b[1;33m=\u001b[0m \u001b[0mconvertArcObjectToPythonObject\u001b[0m\u001b[1;33m(\u001b[0m\u001b[0mgp\u001b[0m\u001b[1;33m.\u001b[0m\u001b[0mXYTableToPoint_management\u001b[0m\u001b[1;33m(\u001b[0m\u001b[1;33m*\u001b[0m\u001b[0mgp_fixargs\u001b[0m\u001b[1;33m(\u001b[0m\u001b[1;33m(\u001b[0m\u001b[0min_table\u001b[0m\u001b[1;33m,\u001b[0m \u001b[0mout_feature_class\u001b[0m\u001b[1;33m,\u001b[0m \u001b[0mx_field\u001b[0m\u001b[1;33m,\u001b[0m \u001b[0my_field\u001b[0m\u001b[1;33m,\u001b[0m \u001b[0mz_field\u001b[0m\u001b[1;33m,\u001b[0m \u001b[0mcoordinate_system\u001b[0m\u001b[1;33m)\u001b[0m\u001b[1;33m,\u001b[0m \u001b[1;32mTrue\u001b[0m\u001b[1;33m)\u001b[0m\u001b[1;33m)\u001b[0m\u001b[1;33m)\u001b[0m\u001b[1;33m\u001b[0m\u001b[1;33m\u001b[0m\u001b[0m\n\u001b[0m\u001b[0;32m   4642\u001b[0m         \u001b[1;32mreturn\u001b[0m \u001b[0mretval\u001b[0m\u001b[1;33m\u001b[0m\u001b[1;33m\u001b[0m\u001b[0m\n\u001b[0;32m   4643\u001b[0m     \u001b[1;32mexcept\u001b[0m \u001b[0mException\u001b[0m \u001b[1;32mas\u001b[0m \u001b[0me\u001b[0m\u001b[1;33m:\u001b[0m\u001b[1;33m\u001b[0m\u001b[1;33m\u001b[0m\u001b[0m\n",
      "\u001b[1;32mC:\\Program Files\\ArcGIS\\Pro\\Resources\\ArcPy\\arcpy\\geoprocessing\\_base.py\u001b[0m in \u001b[0;36m<lambda>\u001b[1;34m(*args)\u001b[0m\n\u001b[0;32m    510\u001b[0m         \u001b[0mval\u001b[0m \u001b[1;33m=\u001b[0m \u001b[0mgetattr\u001b[0m\u001b[1;33m(\u001b[0m\u001b[0mself\u001b[0m\u001b[1;33m.\u001b[0m\u001b[0m_gp\u001b[0m\u001b[1;33m,\u001b[0m \u001b[0mattr\u001b[0m\u001b[1;33m)\u001b[0m\u001b[1;33m\u001b[0m\u001b[1;33m\u001b[0m\u001b[0m\n\u001b[0;32m    511\u001b[0m         \u001b[1;32mif\u001b[0m \u001b[0mcallable\u001b[0m\u001b[1;33m(\u001b[0m\u001b[0mval\u001b[0m\u001b[1;33m)\u001b[0m\u001b[1;33m:\u001b[0m\u001b[1;33m\u001b[0m\u001b[1;33m\u001b[0m\u001b[0m\n\u001b[1;32m--> 512\u001b[1;33m             \u001b[1;32mreturn\u001b[0m \u001b[1;32mlambda\u001b[0m \u001b[1;33m*\u001b[0m\u001b[0margs\u001b[0m\u001b[1;33m:\u001b[0m \u001b[0mval\u001b[0m\u001b[1;33m(\u001b[0m\u001b[1;33m*\u001b[0m\u001b[0mgp_fixargs\u001b[0m\u001b[1;33m(\u001b[0m\u001b[0margs\u001b[0m\u001b[1;33m,\u001b[0m \u001b[1;32mTrue\u001b[0m\u001b[1;33m)\u001b[0m\u001b[1;33m)\u001b[0m\u001b[1;33m\u001b[0m\u001b[1;33m\u001b[0m\u001b[0m\n\u001b[0m\u001b[0;32m    513\u001b[0m         \u001b[1;32melse\u001b[0m\u001b[1;33m:\u001b[0m\u001b[1;33m\u001b[0m\u001b[1;33m\u001b[0m\u001b[0m\n\u001b[0;32m    514\u001b[0m             \u001b[1;32mreturn\u001b[0m \u001b[0mconvertArcObjectToPythonObject\u001b[0m\u001b[1;33m(\u001b[0m\u001b[0mval\u001b[0m\u001b[1;33m)\u001b[0m\u001b[1;33m\u001b[0m\u001b[1;33m\u001b[0m\u001b[0m\n",
      "\u001b[1;31mExecuteError\u001b[0m: ERROR 000582: Error occurred during execution.\n"
     ]
    }
   ],
   "source": [
    "\n",
    "GeoCom = r\"GeoCom4.0_202112.csv\"\n",
    "arcpy.env.workspace = os.getcwd()\n",
    "\n",
    "GeoCom_df = pd.read_csv(GeoCom,index_col=False,usecols=['ENGLISHNAME','CHINESENAME','CLASS','TYPE','EASTING','NORTHING','E_ADDRESS','C_ADDRESS'])\n",
    "\n",
    "GeoCom_df = GeoCom_df.query('TYPE in [\"JUD\",\"CCC\",\"KDG\",\"MIS\",\"PRS\",\"SCM\",\"SEC\",\"SES\",\"TEI\",\"VTI\",\"HOS\",\"GHS\",\"HCV\",\"YHL\",\"HTL\",\"LIB\",\"CLI\",\"ELD\",\"REH\",\"CSD\",\"PFM\",\"CHU\",\"MON\",\"MOS\",\"RPS\",\"SMY\",\"SYN\",\"TMP\"]')\n",
    "\n",
    "GeoCom_df['Sources']= 'GeoCom'\n",
    "GeoCom_csv = GeoCom_df.to_csv(\"GeoCom_NSR.csv\",encoding='utf-8-sig')\n",
    "\n",
    "GDB = r'NSR_Generation.gdb'\n",
    "arcpy.env.overwriteOutput = True\n",
    "\n",
    "\n",
    "arcpy.management.XYTableToPoint(\"GeoCom_NSR.csv\",\"GeoCom_Point\",\"EASTING\",\"NORTHING\",None,arcpy.SpatialReference(2326))\n"
   ]
  },
  {
   "cell_type": "code",
   "execution_count": null,
   "metadata": {},
   "outputs": [],
   "source": [
    "def addNSR(URL);\n",
    "\n",
    "    response = requests.get(URL)\n",
    "    Temp_list = []\n",
    "    \n",
    "    #Check status\n",
    "    if response.status_code == 200:\n",
    "        json = response.json()\n",
    "        \n",
    "        for event in json:\n",
    "            temp = event[['Name of Block(s)']['en']].split('<br>')\n",
    "            temp = list(filter(None, temp))\n",
    "            for item in temp:\n",
    "                Temp_list.append(item)\n",
    "                \n",
    "    else:\n",
    "        print(\"Failed\",response)\n",
    "    \n",
    "    \n",
    "    \n",
    "    return"
   ]
  },
  {
   "cell_type": "code",
   "execution_count": 2,
   "metadata": {},
   "outputs": [],
   "source": [
    "##PRH\n",
    "response = requests.get(r\"https://www.housingauthority.gov.hk/datagovhk/prh-estates.json\")"
   ]
  },
  {
   "cell_type": "code",
   "execution_count": 44,
   "metadata": {},
   "outputs": [],
   "source": [
    "#HOS\n",
    "response = requests.get(r\"https://www.housingauthority.gov.hk/datagovhk/hos-courts.json\")"
   ]
  },
  {
   "cell_type": "code",
   "execution_count": 3,
   "metadata": {},
   "outputs": [
    {
     "name": "stdout",
     "output_type": "stream",
     "text": [
      "<Response [200]>\n"
     ]
    }
   ],
   "source": [
    "if response.status_code == 200:\n",
    "    print(response)\n",
    "    json = response.json()\n",
    "else:\n",
    "    print(\"Failed\",response)"
   ]
  },
  {
   "cell_type": "code",
   "execution_count": 46,
   "metadata": {},
   "outputs": [],
   "source": [
    "HOS=[]\n",
    "\n",
    "for event in json:\n",
    "    \n",
    "    temp = event['Name of Block(s)']['en'].split('<br>')\n",
    "    temp = list(filter(None, temp))\n",
    "    for item in temp:\n",
    "        HOS.append(item)"
   ]
  },
  {
   "cell_type": "code",
   "execution_count": 6,
   "metadata": {},
   "outputs": [],
   "source": [
    "PRH=[]\n",
    "\n",
    "for event in json:\n",
    "    \n",
    "    temp = event['Name of Block(s)']['en'].split('<br>')\n",
    "    temp = list(filter(None, temp))\n",
    "    for item in temp:\n",
    "        PRH.append(item)"
   ]
  },
  {
   "cell_type": "code",
   "execution_count": 7,
   "metadata": {},
   "outputs": [
    {
     "data": {
      "text/plain": [
       "1586"
      ]
     },
     "execution_count": 7,
     "metadata": {},
     "output_type": "execute_result"
    }
   ],
   "source": [
    "#Number of Public Housing Estate = 234\n",
    "#Number of Public Housing Estate blocks = 1586 \n",
    "len(PRH)"
   ]
  },
  {
   "cell_type": "code",
   "execution_count": 47,
   "metadata": {},
   "outputs": [
    {
     "data": {
      "text/plain": [
       "743"
      ]
     },
     "execution_count": 47,
     "metadata": {},
     "output_type": "execute_result"
    }
   ],
   "source": [
    "#Number of Home Ownership Scheme = 220\n",
    "len(HOS)"
   ]
  },
  {
   "cell_type": "code",
   "execution_count": 48,
   "metadata": {},
   "outputs": [],
   "source": [
    "##Tak Cheung House\n",
    "fc = r\"C:\\Users\\Jason\\Desktop\\ANewR\\EPD\\CNP\\CNP.gdb\\Building\"\n",
    "fields = ['ENGLISHBUILDINGNAME','NSR']\n",
    "\n",
    "with arcpy.da.UpdateCursor(fc, fields) as cursor:\n",
    "    \n",
    "    for row in cursor:\n",
    "        if row[0] in HOS    :\n",
    "            row[1] = \"Y\"\n",
    "            cursor.updateRow(row) "
   ]
  }
 ],
 "metadata": {
  "interpreter": {
   "hash": "6e47a6bf76a0afafcea5cff4e6ad2495da2b36615a3b5a3e0bf89b50a2f11d49"
  },
  "kernelspec": {
   "display_name": "Python 3.7.11 64-bit ('arcgis37': conda)",
   "language": "python",
   "name": "python3"
  },
  "language_info": {
   "codemirror_mode": {
    "name": "ipython",
    "version": 3
   },
   "file_extension": ".py",
   "mimetype": "text/x-python",
   "name": "python",
   "nbconvert_exporter": "python",
   "pygments_lexer": "ipython3",
   "version": "3.7.10"
  },
  "orig_nbformat": 4
 },
 "nbformat": 4,
 "nbformat_minor": 2
}
